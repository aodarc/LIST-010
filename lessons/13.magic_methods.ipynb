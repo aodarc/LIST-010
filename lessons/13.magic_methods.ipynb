{
 "cells": [
  {
   "cell_type": "code",
   "execution_count": 1,
   "metadata": {},
   "outputs": [],
   "source": [
    "class Bubble:\n",
    "    def __init__(self, radius):\n",
    "        self.__radius = radius\n",
    "        self.__volume = 0\n",
    "    def __add__(self, other):\n",
    "        if not isinstance(other, self.__class__):\n",
    "            raise TypeError(f\"Object should be {self.__class__.__name__} instance\")\n",
    "        self.__radius = (3 * (self.__radius + other.get_radius()) / (4 * 21./7))**(1/3)\n",
    "        return self\n",
    "    def get_radius():\n",
    "        return self.__radius\n",
    "        "
   ]
  },
  {
   "cell_type": "code",
   "execution_count": 2,
   "metadata": {},
   "outputs": [],
   "source": [
    "b = Bubble(7)"
   ]
  },
  {
   "cell_type": "code",
   "execution_count": 3,
   "metadata": {},
   "outputs": [],
   "source": [
    "b2 = Bubble(42)"
   ]
  },
  {
   "cell_type": "code",
   "execution_count": 4,
   "metadata": {},
   "outputs": [],
   "source": [
    "b + b2"
   ]
  },
  {
   "cell_type": "code",
   "execution_count": 5,
   "metadata": {},
   "outputs": [],
   "source": [
    "class Bubble:\n",
    "    def __init__(self, radius):\n",
    "        self.__radius = radius\n",
    "        self.__volume = 0\n",
    "    def __add__(self, other):\n",
    "        if not isinstance(other, self.__class__):\n",
    "            raise TypeError(f\"Object should be {self.__class__.__name__} instance\")\n",
    "        self.__radius = (3 * (self.__radius + other.get_radius()) / (4 * 21./7))**(1/3)\n",
    "        return self\n",
    "    def get_radius(self):\n",
    "        return self.__radius\n",
    "        "
   ]
  },
  {
   "cell_type": "code",
   "execution_count": 6,
   "metadata": {},
   "outputs": [],
   "source": [
    "b, b2 = Bubble(4), Bubble(7)"
   ]
  },
  {
   "cell_type": "code",
   "execution_count": 7,
   "metadata": {},
   "outputs": [],
   "source": [
    "b + b2"
   ]
  },
  {
   "cell_type": "code",
   "execution_count": 8,
   "metadata": {},
   "outputs": [],
   "source": [
    "(b + b2).get_radius()"
   ]
  },
  {
   "cell_type": "code",
   "execution_count": 9,
   "metadata": {},
   "outputs": [],
   "source": [
    "slice(2,3,4)"
   ]
  },
  {
   "cell_type": "code",
   "execution_count": 10,
   "metadata": {},
   "outputs": [],
   "source": [
    "l = list(range(20))"
   ]
  },
  {
   "cell_type": "code",
   "execution_count": 11,
   "metadata": {},
   "outputs": [],
   "source": [
    "l[slice(3,8)]"
   ]
  },
  {
   "cell_type": "code",
   "execution_count": 12,
   "metadata": {},
   "outputs": [],
   "source": [
    "class StrangeIterator:\n",
    "    def __init__(self):\n",
    "        self.data = [x**2+x for x in range(20)]\n",
    "    def __iter__(self):\n",
    "        print('__iter__ method')\n",
    "        return iter(self.data)\n",
    "        \n",
    "        "
   ]
  },
  {
   "cell_type": "code",
   "execution_count": 13,
   "metadata": {},
   "outputs": [],
   "source": [
    "for x in StrangeIterator():\n",
    "    print(x)\n",
    "    "
   ]
  },
  {
   "cell_type": "code",
   "execution_count": 14,
   "metadata": {},
   "outputs": [],
   "source": [
    "class StrangeIterator:\n",
    "    def __init__(self):\n",
    "        self.data = [x**2+x for x in range(20)]\n",
    "    def __iter__(self):\n",
    "        print('__iter__ method')\n",
    "        self.counter = 0\n",
    "        return iter(self.data)\n",
    "    def __next__(self):\n",
    "        while self.counter < len(self.data)-1:\n",
    "            self.counter += 1\n",
    "            return self.data[self.counter]\n",
    "        "
   ]
  },
  {
   "cell_type": "code",
   "execution_count": 15,
   "metadata": {},
   "outputs": [],
   "source": [
    "class StrangeIterator:\n",
    "    def __init__(self):\n",
    "        self.data = [x**2+x for x in range(20)]\n",
    "    def __iter__(self):\n",
    "        print('__iter__ method')\n",
    "        self.counter = 0\n",
    "        return self\n",
    "    def __next__(self):\n",
    "        print('__next__)')\n",
    "        while self.counter < len(self.data)-1:\n",
    "            self.counter += 1\n",
    "            return self.data[self.counter]\n",
    "            \n",
    "        "
   ]
  },
  {
   "cell_type": "code",
   "execution_count": 16,
   "metadata": {},
   "outputs": [],
   "source": [
    "for x in StrangeIterator():\n",
    "    print(x)\n",
    "    "
   ]
  },
  {
   "cell_type": "code",
   "execution_count": 17,
   "metadata": {},
   "outputs": [],
   "source": [
    "class StrangeIterator:\n",
    "    def __init__(self):\n",
    "        self.data = [x**2+x for x in range(20)]\n",
    "    def __iter__(self):\n",
    "        print('__iter__ method')\n",
    "        self.counter = 0\n",
    "        return self\n",
    "    def __next__(self):\n",
    "        print('__next__)')\n",
    "        while self.counter < len(self.data)-1:\n",
    "            self.counter += 1\n",
    "            return self.data[self.counter]\n",
    "        else:\n",
    "            raise StopIteration()\n",
    "               \n",
    "        "
   ]
  },
  {
   "cell_type": "code",
   "execution_count": 18,
   "metadata": {},
   "outputs": [],
   "source": [
    "for x in StrangeIterator():\n",
    "    print(x)\n",
    "    "
   ]
  },
  {
   "cell_type": "code",
   "execution_count": 19,
   "metadata": {},
   "outputs": [],
   "source": [
    "class A:\n",
    "    def __init__(self):\n",
    "        self.data = []\n",
    "    def __getattr__(self, name):\n",
    "        if name not in self.__dict__:\n",
    "            return 42\n",
    "            "
   ]
  },
  {
   "cell_type": "code",
   "execution_count": 20,
   "metadata": {},
   "outputs": [],
   "source": [
    "a = A()"
   ]
  },
  {
   "cell_type": "code",
   "execution_count": 21,
   "metadata": {},
   "outputs": [],
   "source": [
    "a.mama"
   ]
  },
  {
   "cell_type": "code",
   "execution_count": 22,
   "metadata": {},
   "outputs": [],
   "source": [
    "a.data"
   ]
  },
  {
   "cell_type": "code",
   "execution_count": 23,
   "metadata": {},
   "outputs": [],
   "source": [
    "a.data2"
   ]
  },
  {
   "cell_type": "code",
   "execution_count": 24,
   "metadata": {},
   "outputs": [],
   "source": [
    "class A:\n",
    "    def __init__(self):\n",
    "        self.data = []\n",
    "    def __getattr__(self, name):\n",
    "        if name not in self.__dict__:\n",
    "            return 42\n",
    "    def __getattribute__(self, name):\n",
    "        value = self.__dict__[name]\n",
    "        value.append(42)\n",
    "        return value\n",
    "        "
   ]
  },
  {
   "cell_type": "code",
   "execution_count": 25,
   "metadata": {},
   "outputs": [],
   "source": [
    "a = A()"
   ]
  },
  {
   "cell_type": "code",
   "execution_count": 26,
   "metadata": {},
   "outputs": [],
   "source": [
    "a.mama"
   ]
  },
  {
   "cell_type": "code",
   "execution_count": 27,
   "metadata": {},
   "outputs": [],
   "source": [
    "class A:\n",
    "    def __init__(self):\n",
    "        self.data = []\n",
    "    def __getattr__(self, name):\n",
    "        if name not in self.__dict__:\n",
    "            return 42\n",
    "    def __getattribute__(self, name):\n",
    "        if name in self.__dict__:\n",
    "            value = self.__dict__[name]\n",
    "            value.append(42)\n",
    "        return 42\n",
    "        \n",
    "        "
   ]
  },
  {
   "cell_type": "code",
   "execution_count": 28,
   "metadata": {},
   "outputs": [],
   "source": [
    "a = A()"
   ]
  },
  {
   "cell_type": "code",
   "execution_count": 29,
   "metadata": {},
   "outputs": [],
   "source": [
    "class A:\n",
    "    def __init__(self):\n",
    "        self.data = []\n",
    "    def __getattr__(self, name):\n",
    "        if name not in self.__dict__:\n",
    "            return 42\n",
    "    def __getattribute__(self, name):\n",
    "        if name == 'data':\n",
    "            value = self.__dict__[name]\n",
    "            value.append(42)\n",
    "        return 42\n",
    "        \n",
    "        \n",
    "        "
   ]
  },
  {
   "cell_type": "code",
   "execution_count": 30,
   "metadata": {},
   "outputs": [],
   "source": [
    "a = A()"
   ]
  },
  {
   "cell_type": "code",
   "execution_count": 31,
   "metadata": {},
   "outputs": [],
   "source": [
    "class A:\n",
    "    def __init__(self):\n",
    "        self.data = []\n",
    "    def __getattr__(self, name):\n",
    "        if name not in self.__dict__:\n",
    "            return 42\n",
    "    def __getattribute__(self, name):\n",
    "        if name == 'data':\n",
    "            value = self.data\n",
    "            value.append(42)\n",
    "        return 42\n",
    "        \n",
    "        \n",
    "        "
   ]
  },
  {
   "cell_type": "code",
   "execution_count": 32,
   "metadata": {},
   "outputs": [],
   "source": [
    "a = A()"
   ]
  },
  {
   "cell_type": "code",
   "execution_count": 33,
   "metadata": {},
   "outputs": [],
   "source": [
    "class A:\n",
    "    def __init__(self):\n",
    "        self.data = []\n",
    "    def __getattr__(self, name):\n",
    "        if name not in self.__dict__:\n",
    "            return 42\n",
    "    def __getattribute__(self, name):\n",
    "        if name == 'data':\n",
    "            value = self.data\n",
    "            value.append(42)\n",
    "        return 42\n",
    "        \n",
    "        \n",
    "        "
   ]
  },
  {
   "cell_type": "code",
   "execution_count": 34,
   "metadata": {},
   "outputs": [],
   "source": [
    "a()"
   ]
  },
  {
   "cell_type": "code",
   "execution_count": 35,
   "metadata": {},
   "outputs": [],
   "source": [
    "2+2"
   ]
  },
  {
   "cell_type": "code",
   "execution_count": 36,
   "metadata": {},
   "outputs": [],
   "source": [
    "a = A()"
   ]
  },
  {
   "cell_type": "code",
   "execution_count": 37,
   "metadata": {},
   "outputs": [],
   "source": [
    "class A2:\n",
    "    def __init__(self):\n",
    "        self.data = []\n",
    "    def __getattr__(self, name):\n",
    "        if name not in self.__dict__:\n",
    "            return 42\n",
    "    def __getattribute__(self, name):\n",
    "        if name == 'data':\n",
    "            value = self.data\n",
    "            value.append(42)\n",
    "        return 42\n",
    "        \n",
    "        \n",
    "        "
   ]
  },
  {
   "cell_type": "code",
   "execution_count": 38,
   "metadata": {},
   "outputs": [],
   "source": [
    "a = A2()"
   ]
  },
  {
   "cell_type": "code",
   "execution_count": 39,
   "metadata": {},
   "outputs": [],
   "source": [
    "a"
   ]
  },
  {
   "cell_type": "code",
   "execution_count": 40,
   "metadata": {},
   "outputs": [],
   "source": [
    "del a"
   ]
  },
  {
   "cell_type": "code",
   "execution_count": 41,
   "metadata": {},
   "outputs": [],
   "source": [
    "del A"
   ]
  },
  {
   "cell_type": "code",
   "execution_count": 42,
   "metadata": {},
   "outputs": [],
   "source": [
    "a = A2()"
   ]
  },
  {
   "cell_type": "code",
   "execution_count": 43,
   "metadata": {},
   "outputs": [],
   "source": [
    "a.data"
   ]
  },
  {
   "cell_type": "code",
   "execution_count": 44,
   "metadata": {},
   "outputs": [],
   "source": [
    "del A2"
   ]
  },
  {
   "cell_type": "code",
   "execution_count": 45,
   "metadata": {},
   "outputs": [],
   "source": [
    "class A2:\n",
    "    def __init__(self):\n",
    "        self.data = []\n",
    "    def __getattr__(self, name):\n",
    "        if name not in self.__dict__:\n",
    "            return 42\n",
    "    def __getattribute__(self, name):\n",
    "        if name == 'data':\n",
    "            value = self.__dict__[name]\n",
    "            value.append(42)\n",
    "        return 42\n",
    "        \n",
    "        \n",
    "        "
   ]
  },
  {
   "cell_type": "code",
   "execution_count": 46,
   "metadata": {},
   "outputs": [],
   "source": [
    "a = A2()"
   ]
  },
  {
   "cell_type": "code",
   "execution_count": 47,
   "metadata": {},
   "outputs": [],
   "source": [
    "a.data"
   ]
  },
  {
   "cell_type": "code",
   "execution_count": 48,
   "metadata": {},
   "outputs": [],
   "source": [
    "a.dfasfa"
   ]
  },
  {
   "cell_type": "code",
   "execution_count": 49,
   "metadata": {},
   "outputs": [],
   "source": [
    "class A:\n",
    "    def __str__(self):\n",
    "        return \"AAAAAAAAAAAAAAAAA AAAAAA\"\n",
    "        "
   ]
  },
  {
   "cell_type": "code",
   "execution_count": 50,
   "metadata": {},
   "outputs": [],
   "source": [
    "str(A())"
   ]
  },
  {
   "cell_type": "code",
   "execution_count": 51,
   "metadata": {},
   "outputs": [],
   "source": [
    "print(A())"
   ]
  },
  {
   "cell_type": "code",
   "execution_count": 52,
   "metadata": {},
   "outputs": [],
   "source": [
    "class A:\n",
    "    def __repr__(self):\n",
    "        return \"AAAAAAAAAAAAAAAAA AAAAAA\"\n",
    "        "
   ]
  },
  {
   "cell_type": "code",
   "execution_count": 53,
   "metadata": {},
   "outputs": [],
   "source": [
    "str(A())"
   ]
  },
  {
   "cell_type": "code",
   "execution_count": 54,
   "metadata": {},
   "outputs": [],
   "source": [
    "class A:\n",
    "    def __repr__(self):\n",
    "        return \"AAAAAAAAAAAAAAAAA AAAAAA\"\n",
    "    def __str__(self):\n",
    "        return \"A2\"\n",
    "        "
   ]
  },
  {
   "cell_type": "code",
   "execution_count": 55,
   "metadata": {},
   "outputs": [],
   "source": [
    "str(A())"
   ]
  },
  {
   "cell_type": "code",
   "execution_count": 56,
   "metadata": {},
   "outputs": [],
   "source": [
    "print(A())"
   ]
  },
  {
   "cell_type": "code",
   "execution_count": 57,
   "metadata": {},
   "outputs": [],
   "source": [
    "with open('new_file.txt', 'rw') as file:\n",
    "    file.write('AAAAA')\n",
    "    "
   ]
  },
  {
   "cell_type": "code",
   "execution_count": 58,
   "metadata": {},
   "outputs": [],
   "source": [
    "with open('new_file.txt', 'r+') as file:\n",
    "    file.write('AAAAA')\n",
    "    "
   ]
  },
  {
   "cell_type": "code",
   "execution_count": 59,
   "metadata": {},
   "outputs": [],
   "source": [
    "with open('new_file.txt', 'w+') as file:\n",
    "    file.write('AAAAA')\n",
    "    "
   ]
  },
  {
   "cell_type": "code",
   "execution_count": 60,
   "metadata": {},
   "outputs": [],
   "source": [
    "with open('new_file.txt', 'w+') as file:\n",
    "    file.read()\n",
    "    \n",
    "    "
   ]
  },
  {
   "cell_type": "code",
   "execution_count": 61,
   "metadata": {},
   "outputs": [],
   "source": [
    "with open('new_file.txt', 'w+') as file:\n",
    "    print(file.read())\n",
    "    \n",
    "    \n",
    "    "
   ]
  },
  {
   "cell_type": "code",
   "execution_count": 62,
   "metadata": {},
   "outputs": [],
   "source": [
    "with open('new_file.txt', 'w+') as file:\n",
    "    file.write('AAAAA')\n",
    "    \n",
    "    "
   ]
  },
  {
   "cell_type": "code",
   "execution_count": 63,
   "metadata": {},
   "outputs": [],
   "source": [
    "with open('new_file.txt', 'r+') as file:\n",
    "    print(file.read())\n",
    "    \n",
    "    \n",
    "    "
   ]
  },
  {
   "cell_type": "code",
   "execution_count": 64,
   "metadata": {},
   "outputs": [],
   "source": [
    "file = open('new_file.txt', 'r+')"
   ]
  },
  {
   "cell_type": "code",
   "execution_count": 65,
   "metadata": {},
   "outputs": [],
   "source": [
    "file.write('BBBBBBBBBB')"
   ]
  },
  {
   "cell_type": "code",
   "execution_count": 66,
   "metadata": {},
   "outputs": [],
   "source": [
    "file.close()"
   ]
  },
  {
   "cell_type": "code",
   "execution_count": 67,
   "metadata": {},
   "outputs": [],
   "source": [
    "class ContextManager:\n",
    "    def __init__(self):\n",
    "        self.data = []\n",
    "    def __enter__(self):\n",
    "        print(\"enter\")\n",
    "        self.data.append(42)\n",
    "        return self.data\n",
    "    def __exit__(self, *args):\n",
    "        print('exit!!!!!!!!')\n",
    "        self.data\n",
    "        "
   ]
  },
  {
   "cell_type": "code",
   "execution_count": 68,
   "metadata": {},
   "outputs": [],
   "source": [
    "with ContextManager() as mng:\n",
    "    print(f'data {mng}')\n",
    "    mng.append(-42)\n",
    "    "
   ]
  },
  {
   "cell_type": "code",
   "execution_count": 69,
   "metadata": {},
   "outputs": [],
   "source": [
    "class ContextManager:\n",
    "    def __init__(self):\n",
    "        self.data = []\n",
    "    def __enter__(self):\n",
    "        print(\"enter\")\n",
    "        self.data.append(42)\n",
    "        return self.data\n",
    "    def __exit__(self, *args):\n",
    "        print('exit!!!!!!!!')\n",
    "        print(self.data)\n",
    "        \n",
    "        "
   ]
  },
  {
   "cell_type": "code",
   "execution_count": 70,
   "metadata": {},
   "outputs": [],
   "source": [
    "with ContextManager() as mng:\n",
    "    print(f'data {mng}')\n",
    "    mng.append(-42)\n",
    "    mng.append('asgasgsa')\n",
    "    "
   ]
  },
  {
   "cell_type": "code",
   "execution_count": 71,
   "metadata": {},
   "outputs": [],
   "source": [
    "class ContextManager:\n",
    "    def __init__(self):\n",
    "        self.data = []\n",
    "    def __enter__(self):\n",
    "        print(\"enter\")\n",
    "        self.data.append(42)\n",
    "        return self.data\n",
    "    def __exit__(self, *args):\n",
    "        print('exit!!!!!!!!')\n",
    "        print(self.data)\n",
    "        self.data = []\n",
    "        \n",
    "        "
   ]
  },
  {
   "cell_type": "code",
   "execution_count": 72,
   "metadata": {},
   "outputs": [],
   "source": [
    "context = ContextManager()"
   ]
  },
  {
   "cell_type": "code",
   "execution_count": 73,
   "metadata": {},
   "outputs": [],
   "source": [
    "with context as ctx:\n",
    "    ctx.extend([1,2,3,4,56])\n",
    "    "
   ]
  },
  {
   "cell_type": "code",
   "execution_count": 74,
   "metadata": {},
   "outputs": [],
   "source": [
    "context.data"
   ]
  },
  {
   "cell_type": "code",
   "execution_count": 75,
   "metadata": {},
   "outputs": [],
   "source": [
    "class ContextManager:\n",
    "    def __init__(self):\n",
    "        self.data = []\n",
    "    def __enter__(self):\n",
    "        print(\"enter\")\n",
    "        self.data.append(42)\n",
    "        return self.data\n",
    "    def __exit__(self, *args):\n",
    "        print('exit!!!!!!!!')\n",
    "        print(self.data)\n",
    "        self.data = []\n",
    "        \n",
    "        "
   ]
  },
  {
   "cell_type": "code",
   "execution_count": 76,
   "metadata": {},
   "outputs": [],
   "source": [
    "with context as ctx:\n",
    "    print(ctx.data)\n",
    "    1/0\n",
    "    ctx.extend([1,2,3,4,56])\n",
    "    "
   ]
  },
  {
   "cell_type": "code",
   "execution_count": 77,
   "metadata": {},
   "outputs": [],
   "source": [
    "context.data"
   ]
  },
  {
   "cell_type": "code",
   "execution_count": 78,
   "metadata": {},
   "outputs": [],
   "source": [
    "with context as ctx:\n",
    "    \n",
    "    ctx.extend([1,2,3,4,56])\n",
    "    "
   ]
  },
  {
   "cell_type": "code",
   "execution_count": 79,
   "metadata": {},
   "outputs": [],
   "source": [
    "class ContextManager:\n",
    "    def __init__(self):\n",
    "        self.data = []\n",
    "    def __enter__(self):\n",
    "        print(\"enter\")\n",
    "        self.data.append(42)\n",
    "        return self.data\n",
    "    def __exit__(self, *args):\n",
    "        print('exit!!!!!!!!')\n",
    "        print(self.data)\n",
    "        self.data = []\n",
    "    def write_file(self, data):\n",
    "        print(data)\n",
    "        \n",
    "        "
   ]
  },
  {
   "cell_type": "code",
   "execution_count": 80,
   "metadata": {},
   "outputs": [],
   "source": [
    "context = ContextManager()"
   ]
  },
  {
   "cell_type": "code",
   "execution_count": 81,
   "metadata": {},
   "outputs": [],
   "source": [
    "with context as c:\n",
    "    c.write_file('fasfas')\n",
    "    with context as c2:\n",
    "        c2.write_file('fasf')\n",
    "        "
   ]
  },
  {
   "cell_type": "code",
   "execution_count": 82,
   "metadata": {},
   "outputs": [],
   "source": [
    "\"\"\"\n",
    "    asfasfa\n",
    "        asfasfgas\n",
    "    fasfasfas\"\"\""
   ]
  },
  {
   "cell_type": "code",
   "execution_count": 83,
   "metadata": {},
   "outputs": [],
   "source": [
    "%notebook 13.magic_methods.ipynb"
   ]
  }
 ],
 "metadata": {},
 "nbformat": 4,
 "nbformat_minor": 2
}
